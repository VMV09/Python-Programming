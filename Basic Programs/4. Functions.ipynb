{
 "cells": [
  {
   "cell_type": "markdown",
   "metadata": {},
   "source": [
    "# Functions in Python"
   ]
  },
  {
   "cell_type": "markdown",
   "metadata": {},
   "source": [
    "1. In the context of programming, a function is a named sequence of statements that performs a computation.\n"
   ]
  },
  {
   "cell_type": "markdown",
   "metadata": {},
   "source": [
    "## Function Calls:\n",
    "1. We have already seen one example of a function call:\n",
    "<br>\n",
    "<br>\n",
    "`>>> type(42)`  \n",
    "`<class 'int'>` \n",
    "<br>\n",
    "- The name of the function is type.\n",
    "- The expression in parentheses is called the argument of the function."
   ]
  },
  {
   "cell_type": "markdown",
   "metadata": {},
   "source": [
    "- It is common to say that a function \"takes\" an argument and \"returns\" a result.\n",
    "- The result is also called a return value.\n",
    "- Python provides functions that convert values from one type to another.\n",
    "- The `int` function takes any value and convers it to an integer, if it can, or complains otherwise:\n",
    "<br>\n",
    "\n",
    "`>>> int(32)`  \n",
    "`32`\n",
    "<br>\n",
    "\n",
    "`>>> int('Hello')`  \n",
    "`ValueError: invald literal for int(): Hello`\n"
   ]
  },
  {
   "cell_type": "markdown",
   "metadata": {},
   "source": [
    "- `int` can convert floating point values to integers, but it doesnt round off; it chops off the fraction part:\n",
    "<br>\n",
    "\n",
    "`int(3.9999)`  \n",
    "`3`"
   ]
  },
  {
   "cell_type": "markdown",
   "metadata": {},
   "source": [
    "- `str` converts its arguments to a string.    \n",
    "- `float` converts integers and strings to floating-point numbers.  "
   ]
  },
  {
   "cell_type": "code",
   "execution_count": 1,
   "metadata": {},
   "outputs": [
    {
     "data": {
      "text/plain": [
       "32.0"
      ]
     },
     "execution_count": 1,
     "metadata": {},
     "output_type": "execute_result"
    }
   ],
   "source": [
    "float(32)"
   ]
  },
  {
   "cell_type": "code",
   "execution_count": 2,
   "metadata": {},
   "outputs": [
    {
     "data": {
      "text/plain": [
       "3.14159"
      ]
     },
     "execution_count": 2,
     "metadata": {},
     "output_type": "execute_result"
    }
   ],
   "source": [
    "float('3.14159')"
   ]
  },
  {
   "cell_type": "code",
   "execution_count": 3,
   "metadata": {},
   "outputs": [
    {
     "data": {
      "text/plain": [
       "'32'"
      ]
     },
     "execution_count": 3,
     "metadata": {},
     "output_type": "execute_result"
    }
   ],
   "source": [
    "str(32)"
   ]
  },
  {
   "cell_type": "code",
   "execution_count": 4,
   "metadata": {},
   "outputs": [
    {
     "data": {
      "text/plain": [
       "'32'"
      ]
     },
     "execution_count": 4,
     "metadata": {},
     "output_type": "execute_result"
    }
   ],
   "source": [
    "str('32')"
   ]
  },
  {
   "cell_type": "markdown",
   "metadata": {},
   "source": [
    "## Composition\n",
    "- One of the most useful features of programming language is their ability to take small building blocks and **compose** them.\n",
    "<br>\n",
    "\n",
    "`x = math.sin(degrees / 360.0 * 2 * math.pi)`"
   ]
  },
  {
   "cell_type": "markdown",
   "metadata": {},
   "source": [
    "- And even function calls:\n",
    "<br>\n",
    "\n",
    "`x = math.exp(math.log(x + 1))`"
   ]
  },
  {
   "cell_type": "markdown",
   "metadata": {},
   "source": []
  }
 ],
 "metadata": {
  "kernelspec": {
   "display_name": "Python 3",
   "language": "python",
   "name": "python3"
  },
  "language_info": {
   "codemirror_mode": {
    "name": "ipython",
    "version": 3
   },
   "file_extension": ".py",
   "mimetype": "text/x-python",
   "name": "python",
   "nbconvert_exporter": "python",
   "pygments_lexer": "ipython3",
   "version": "3.12.0"
  }
 },
 "nbformat": 4,
 "nbformat_minor": 2
}
