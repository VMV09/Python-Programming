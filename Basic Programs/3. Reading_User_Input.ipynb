{
 "cells": [
  {
   "cell_type": "markdown",
   "metadata": {},
   "source": [
    "# Reading a User Input in Python"
   ]
  },
  {
   "cell_type": "markdown",
   "metadata": {},
   "source": [
    "Reading a User Input in Python\n",
    "1. To read an input from a user, the python enables us with a built-in function called input(), that works in the exact similar manner of the function print().  \n",
    "2. The input function uses a string inside parenthesis which it prints, and waits for the user to the give the input<br>\n",
    "3. We store in a variable written on the LHS side of the assignment operator, and the input function written on the RHS<br>\n",
    "4. The input() function always returns data as a string, this can be converted to any other data type by calling the input function within the function to which the string is supposed to be typecasted. "
   ]
  },
  {
   "cell_type": "code",
   "execution_count": 2,
   "metadata": {},
   "outputs": [
    {
     "name": "stdout",
     "output_type": "stream",
     "text": [
      "The name you entered is\n",
      "python\n",
      "<class 'str'>\n",
      "2004\n",
      "<class 'int'>\n",
      "2004\n"
     ]
    }
   ],
   "source": [
    "name = input('What is your name? ')\n",
    "print('The name you entered is')\n",
    "print(name)\n",
    "\n",
    "dob = input('Birth Year: ')\n",
    "print(type(dob))\n",
    "print(dob)\n",
    "\n",
    "dob1 = int(input('Birth Year: '))\n",
    "print(type(dob1))\n",
    "print(dob1)"
   ]
  },
  {
   "cell_type": "markdown",
   "metadata": {},
   "source": [
    "**Question 01 [Try and Solve the Question on your own before looking at the answer!!]**"
   ]
  },
  {
   "cell_type": "markdown",
   "metadata": {},
   "source": [
    "READ THE BIRTH YEAR OF THE USER AND DESIGN A PROGRAM TO CALCULATE HIS CURRENT AGE"
   ]
  },
  {
   "cell_type": "markdown",
   "metadata": {},
   "source": [
    "## Solution"
   ]
  },
  {
   "cell_type": "code",
   "execution_count": 3,
   "metadata": {},
   "outputs": [
    {
     "name": "stdout",
     "output_type": "stream",
     "text": [
      "27\n"
     ]
    }
   ],
   "source": [
    "birth_year = int(input('Enter your Birth Year: '))\n",
    "age = 2024 - birth_year\n",
    "print(age)"
   ]
  },
  {
   "cell_type": "markdown",
   "metadata": {},
   "source": []
  }
 ],
 "metadata": {
  "kernelspec": {
   "display_name": "Python 3",
   "language": "python",
   "name": "python3"
  },
  "language_info": {
   "codemirror_mode": {
    "name": "ipython",
    "version": 3
   },
   "file_extension": ".py",
   "mimetype": "text/x-python",
   "name": "python",
   "nbconvert_exporter": "python",
   "pygments_lexer": "ipython3",
   "version": "3.12.0"
  }
 },
 "nbformat": 4,
 "nbformat_minor": 2
}
