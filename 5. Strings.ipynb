{
 "cells": [
  {
   "cell_type": "markdown",
   "metadata": {},
   "source": [
    "# The String Literal"
   ]
  },
  {
   "cell_type": "markdown",
   "metadata": {},
   "source": [
    "1. Numerical values are not the only literal values in programming. <br>\n",
    "<br>\n",
    "2. String literals or strings represents a sequence of characters. For Example <br>\n",
    "<br>\n",
    "`Hello` | `India` | `Bangalore` | `Rohan` etc."
   ]
  },
  {
   "cell_type": "markdown",
   "metadata": {},
   "source": [
    "1. Strings are delimited either by a pair of single quotes or double or triple quotes. <br>\n",
    "<br>\n",
    "2. **It is however important to remember that there is no difference between the single and double quotes except for its subtle usage (demonstrated below), but the triple quotes enables programmers to extend and write strings in multiple lines unlike the other two forms, that limits us to write strings in a single line**"
   ]
  },
  {
   "cell_type": "code",
   "execution_count": 1,
   "metadata": {},
   "outputs": [
    {
     "name": "stdout",
     "output_type": "stream",
     "text": [
      "Hello World\n",
      "Hello World\n"
     ]
    }
   ],
   "source": [
    "print('Hello World') # Demonstrates use of single quotes for strings\n",
    "print(\"Hello World\") # Double quotes for strings"
   ]
  },
  {
   "cell_type": "code",
   "execution_count": 2,
   "metadata": {},
   "outputs": [
    {
     "name": "stdout",
     "output_type": "stream",
     "text": [
      "\"Hello\" World\n"
     ]
    }
   ],
   "source": [
    "print('\"Hello\" World')"
   ]
  },
  {
   "cell_type": "code",
   "execution_count": 3,
   "metadata": {},
   "outputs": [
    {
     "name": "stdout",
     "output_type": "stream",
     "text": [
      "Hello World's in Python\n"
     ]
    }
   ],
   "source": [
    "print(\"Hello World's in Python\")"
   ]
  },
  {
   "cell_type": "code",
   "execution_count": 4,
   "metadata": {},
   "outputs": [
    {
     "name": "stdout",
     "output_type": "stream",
     "text": [
      "Hello 'World'\n"
     ]
    }
   ],
   "source": [
    "print(\"Hello 'World'\")"
   ]
  },
  {
   "cell_type": "markdown",
   "metadata": {},
   "source": [
    "**Try and Execute the following Code Block and Analyze the working**<br>\n",
    "<br>\n",
    "`print('Jennifer Smith's Friend')`"
   ]
  },
  {
   "cell_type": "markdown",
   "metadata": {},
   "source": [
    "**Carefully Analyze the usage of quotes in all the code snippets to understand the subtle yet powerful feature Python gives**"
   ]
  },
  {
   "cell_type": "markdown",
   "metadata": {},
   "source": [
    "Additional Examples of String Literal Values\n",
    "\n",
    "![alt text](image.png)\n",
    "\n",
    "\n",
    "\n",
    "\n",
    "\n",
    "\n"
   ]
  },
  {
   "cell_type": "markdown",
   "metadata": {},
   "source": [
    "A string may or may not contain any characters. <br>\n",
    "It is worthy to note that an empty string is different than a string consisting a blank character."
   ]
  },
  {
   "cell_type": "markdown",
   "metadata": {},
   "source": [
    "Lets analyze how the Python Interpreter processes the empty and blank character string - <br>\n",
    "<br>\n",
    "**Empty String:**<br>\n",
    "The Length of Empty String or the memory occupied by this is - 0. <br>\n",
    "In a boolean context, an empty string evaluates to `False`<br>\n",
    "<br>\n",
    "**Blank Character:**<br>\n",
    "The Length of String or the memory occupied by this is - 1. <br>\n",
    "In a boolean context, a blank character evaluates to `True`"
   ]
  },
  {
   "cell_type": "markdown",
   "metadata": {},
   "source": [
    "# The Representation of Character Values"
   ]
  },
  {
   "cell_type": "markdown",
   "metadata": {},
   "source": [
    "1. There needs to be a way to encode or represent within a computer, so that the device understands what values it is dealing with.<br>\n",
    "<br>\n",
    "2. Various international standards and schemes have been devised to standardize the character encoding schemes.<br>\n",
    "<br>\n",
    "3. The Unicode encoding scheme is intended to be a universal encoding scheme.<br>\n",
    "<br>\n",
    "4. Unicode is actually a collection of different encoding schemes utilizing between 8 and 32 bits for each character.<br>\n",
    "<br>\n",
    "5. The default encoding in Python uses **UTF-8**, an 8-bit encoding compatible with ASCII, an older, still widely used encoding scheme.<br>\n",
    "<br>\n",
    "6. Approx, the unicode-defined characters are over 10,000, and the Unicode has the capacity and power to define more than 4 billion characters.<br>\n",
    "<br>\n",
    "**You can refer the Internet to see over the listing of all the UTF-8 encoding scheme.**\n"
   ]
  },
  {
   "cell_type": "markdown",
   "metadata": {},
   "source": [
    "# The String Data Type"
   ]
  },
  {
   "cell_type": "markdown",
   "metadata": {},
   "source": []
  }
 ],
 "metadata": {
  "kernelspec": {
   "display_name": "Python 3",
   "language": "python",
   "name": "python3"
  },
  "language_info": {
   "codemirror_mode": {
    "name": "ipython",
    "version": 3
   },
   "file_extension": ".py",
   "mimetype": "text/x-python",
   "name": "python",
   "nbconvert_exporter": "python",
   "pygments_lexer": "ipython3",
   "version": "3.13.1"
  }
 },
 "nbformat": 4,
 "nbformat_minor": 2
}
