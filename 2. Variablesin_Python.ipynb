{
 "cells": [
  {
   "cell_type": "markdown",
   "metadata": {},
   "source": [
    "# Variables and Data Types in Python"
   ]
  },
  {
   "cell_type": "markdown",
   "metadata": {},
   "source": [
    "## **Variables**"
   ]
  },
  {
   "cell_type": "markdown",
   "metadata": {},
   "source": [
    "1. Variables are automatically initialized with the data type being assigned to it.\n",
    "2. Expressions are the pieces of code that produce a value upon successful interpretation.\n",
    "3. The `#` symbol can be used to comment a line in python.\n",
    "4. 3 single quotes(''' ''') can be used for a multiline comment in python."
   ]
  },
  {
   "cell_type": "code",
   "execution_count": 8,
   "metadata": {},
   "outputs": [
    {
     "name": "stdout",
     "output_type": "stream",
     "text": [
      "123456789\n",
      "987654321\n"
     ]
    }
   ],
   "source": [
    "# Initialization and Declarations of Variables\n",
    "a = 123456789\n",
    "b = 987654321\n",
    "print(a)\n",
    "print(b)"
   ]
  },
  {
   "cell_type": "code",
   "execution_count": 9,
   "metadata": {},
   "outputs": [
    {
     "name": "stdout",
     "output_type": "stream",
     "text": [
      "10\n",
      "30\n",
      "30\n",
      "4.99999\n",
      "Python\n",
      "False\n"
     ]
    }
   ],
   "source": [
    "price = 10\n",
    "print(price)\n",
    "price += 20\n",
    "print(price)\n",
    "price = 30#Integers\n",
    "print(price)\n",
    "price = 4.99999#Floating-point\n",
    "print(price)\n",
    "name = 'Python'#string\n",
    "print(name)\n",
    "is_published = False#boolean\n",
    "print(is_published)"
   ]
  },
  {
   "cell_type": "markdown",
   "metadata": {},
   "source": [
    "### Limits of Range in Floating Point Representation\n"
   ]
  },
  {
   "cell_type": "markdown",
   "metadata": {},
   "source": [
    "1. There is no limit to the size of an integer that can be represented in Python. Floating-point values, \n",
    "however, have both a limited  range  and a limited  precision . Python uses a double-precision standard \n",
    "format (IEEE 754). <br>\n",
    "<br>\n",
    "2.  To denote such a range of values, fl oating-points can be represented in scientific notation - `9.0045602e + 5` etc. <br>\n",
    "<br>\n",
    "3. It is important to understand the limitations of fl oating-point representation. <br>\n",
    "For example, the multiplication of two values may result in arithmetic overflow , a condition that occurs when a calculated result is too large in magnitude (size) to be represented,<br>\n"
   ]
  },
  {
   "cell_type": "code",
   "execution_count": 1,
   "metadata": {},
   "outputs": [
    {
     "data": {
      "text/plain": [
       "inf"
      ]
     },
     "execution_count": 1,
     "metadata": {},
     "output_type": "execute_result"
    }
   ],
   "source": [
    "1.5e200 * 2.0e210"
   ]
  },
  {
   "cell_type": "markdown",
   "metadata": {},
   "source": [
    "**This results in the special value inf (“infi nity”) rather than the arithmetically correct result \n",
    "`3.0e410`, indicating that arithmetic overfl ow has occurred.**"
   ]
  },
  {
   "cell_type": "markdown",
   "metadata": {},
   "source": [
    "Similarly, the division of two numbers \n",
    "may result in  arithmetic underflow , a condition that occurs when a calculated result is too small in \n",
    "magnitude to be represented,"
   ]
  },
  {
   "cell_type": "code",
   "execution_count": 2,
   "metadata": {},
   "outputs": [
    {
     "data": {
      "text/plain": [
       "inf"
      ]
     },
     "execution_count": 2,
     "metadata": {},
     "output_type": "execute_result"
    }
   ],
   "source": [
    "1.0e2300 / 1.0e100 "
   ]
  },
  {
   "cell_type": "markdown",
   "metadata": {},
   "source": [
    "**We next look at possible effects resulting from the limited precision \n",
    "in fl oating-point representation.**"
   ]
  },
  {
   "cell_type": "code",
   "execution_count": 3,
   "metadata": {},
   "outputs": [
    {
     "data": {
      "text/plain": [
       "2.88e+300"
      ]
     },
     "execution_count": 3,
     "metadata": {},
     "output_type": "execute_result"
    }
   ],
   "source": [
    "1.2e200 * 2.4e100"
   ]
  },
  {
   "cell_type": "code",
   "execution_count": 4,
   "metadata": {},
   "outputs": [
    {
     "data": {
      "text/plain": [
       "5e+99"
      ]
     },
     "execution_count": 4,
     "metadata": {},
     "output_type": "execute_result"
    }
   ],
   "source": [
    "1.2e200 / 2.4e100"
   ]
  },
  {
   "cell_type": "code",
   "execution_count": 5,
   "metadata": {},
   "outputs": [
    {
     "data": {
      "text/plain": [
       "inf"
      ]
     },
     "execution_count": 5,
     "metadata": {},
     "output_type": "execute_result"
    }
   ],
   "source": [
    "1.2e200 * 2.4e200 "
   ]
  },
  {
   "cell_type": "markdown",
   "metadata": {},
   "source": [
    "**1. It is worthy to remmebr that since any floating-point representation contains only a finite number of digits, what is stored for many floating-point values is only an approximation of the true value** <br>\n",
    "<br>\n",
    "2. For most everyday applications, this slight loss in accuracy is of no practical concern. However, in scientific computing and other applications in which precise calculations are required, this is something that the programmer must be keenly aware of. "
   ]
  },
  {
   "cell_type": "markdown",
   "metadata": {},
   "source": [
    "### **The Subtle Art of Assignment**\n",
    "So far we have observed the use of `=` operator that assigns the value on its Right Hand Side to the  variables that is defined on its Left Hand Side.\n",
    "\n",
    "1. so we use the assignment operator `=` to store values.\n",
    "2. Entering `spam = 42`, a variable called spam will have the integer value 42 stored in it.\n",
    "\n",
    "Lets go have some fun with these Variables!! <br>\n",
    "Look at the below code and try to understand"
   ]
  },
  {
   "cell_type": "code",
   "execution_count": 11,
   "metadata": {},
   "outputs": [
    {
     "data": {
      "text/plain": [
       "42"
      ]
     },
     "execution_count": 11,
     "metadata": {},
     "output_type": "execute_result"
    }
   ],
   "source": [
    "spam = 42\n",
    "spam # Writing the name of the variable prints the value stored in it without having to use the print command"
   ]
  },
  {
   "cell_type": "code",
   "execution_count": 12,
   "metadata": {},
   "outputs": [
    {
     "data": {
      "text/plain": [
       "2"
      ]
     },
     "execution_count": 12,
     "metadata": {},
     "output_type": "execute_result"
    }
   ],
   "source": [
    "eggs = 2\n",
    "eggs"
   ]
  },
  {
   "cell_type": "code",
   "execution_count": 13,
   "metadata": {},
   "outputs": [
    {
     "data": {
      "text/plain": [
       "44"
      ]
     },
     "execution_count": 13,
     "metadata": {},
     "output_type": "execute_result"
    }
   ],
   "source": [
    "spam + eggs"
   ]
  },
  {
   "cell_type": "code",
   "execution_count": 14,
   "metadata": {},
   "outputs": [
    {
     "data": {
      "text/plain": [
       "86"
      ]
     },
     "execution_count": 14,
     "metadata": {},
     "output_type": "execute_result"
    }
   ],
   "source": [
    "spam + eggs + spam"
   ]
  },
  {
   "cell_type": "code",
   "execution_count": 16,
   "metadata": {},
   "outputs": [
    {
     "data": {
      "text/plain": [
       "46"
      ]
     },
     "execution_count": 16,
     "metadata": {},
     "output_type": "execute_result"
    }
   ],
   "source": [
    "spam = spam + 2\n",
    "spam"
   ]
  },
  {
   "cell_type": "code",
   "execution_count": 17,
   "metadata": {},
   "outputs": [
    {
     "data": {
      "text/plain": [
       "48"
      ]
     },
     "execution_count": 17,
     "metadata": {},
     "output_type": "execute_result"
    }
   ],
   "source": [
    "spam += 2\n",
    "spam"
   ]
  },
  {
   "cell_type": "markdown",
   "metadata": {},
   "source": [
    "A variable is initialized (or created) the first time a value is stored in it \n",
    "1. After that, you can use it in expressions with other variables and values \n",
    "2. When a variable is assigned a new value \n",
    "3. The old value is forgotten, which is why spam evaluated to 42 instead of 40 at the end of the example. This is called overwriting the variable. \n",
    "\n",
    "\n",
    "Enter the following code to try overwriting a string:"
   ]
  },
  {
   "cell_type": "code",
   "execution_count": 18,
   "metadata": {},
   "outputs": [
    {
     "data": {
      "text/plain": [
       "'Hello'"
      ]
     },
     "execution_count": 18,
     "metadata": {},
     "output_type": "execute_result"
    }
   ],
   "source": [
    "spam = 'Hello'\n",
    "spam"
   ]
  },
  {
   "cell_type": "code",
   "execution_count": 20,
   "metadata": {},
   "outputs": [
    {
     "data": {
      "text/plain": [
       "'Good Bye'"
      ]
     },
     "execution_count": 20,
     "metadata": {},
     "output_type": "execute_result"
    }
   ],
   "source": [
    "spam = 'Good Bye'\n",
    "spam\n",
    "# The spam variables in this example stores 'Hello' until we replace the string with 'Good Bye'"
   ]
  },
  {
   "cell_type": "markdown",
   "metadata": {},
   "source": [
    "**Variables Names** <br>\n",
    "1. A good variable name describes the data it contains. \n",
    "2. A descriptive yet short name will help make your code more readable and presentable to others.\n",
    "3. Though a name could be anything, Python does pose a few restrictions upon the naming convention. These includes <br>\n",
    "<br> \n",
    "            a. It can be only one word with no spaces <br>\n",
    "            b. It can use only letters,, numbers, and the underscore character. <br>\n",
    "            c. It cannot begin with a number"
   ]
  },
  {
   "cell_type": "markdown",
   "metadata": {},
   "source": [
    "**Variables Names are case sensitive, meaning spam, Spam, sPam, spAm and spaM and any other permutation and combinations of these will all be uniqely identified by the Python Interpretor.**"
   ]
  },
  {
   "cell_type": "markdown",
   "metadata": {},
   "source": [
    "## Data types"
   ]
  },
  {
   "cell_type": "markdown",
   "metadata": {},
   "source": [
    "1. A data type consists of a set of values and a set of operations that can be performed on those values.\n",
    "2. A literal is the way a value of a data type looks to a programmer. \n",
    "3. Python mainly uses int for Integers, float was Real Numbers and str for Character strings.\n",
    "We shall learn more about numeric data types later in this chapter\n",
    "4. The data type of variable can be seen by using the function type() and passing the variables as the input to the function."
   ]
  },
  {
   "cell_type": "code",
   "execution_count": 2,
   "metadata": {},
   "outputs": [
    {
     "name": "stdout",
     "output_type": "stream",
     "text": [
      "<class 'int'>\n",
      "<class 'float'>\n",
      "<class 'str'>\n",
      "<class 'complex'>\n"
     ]
    }
   ],
   "source": [
    "# Data Types of a variables\n",
    "a = 10 # Integer\n",
    "print(type(a))\n",
    "a = 100.000 # Floating point\n",
    "print(type(a))\n",
    "a = 'Python Programming' # String\n",
    "print(type(a))\n",
    "a = 3+5j # Complex -> A special class that depicts the complex numbers\n",
    "print(type(a)) "
   ]
  },
  {
   "cell_type": "markdown",
   "metadata": {},
   "source": [
    "**Operators in Python**\n",
    "1. There are 3 types of operators in python: Arithmetic, Logical and Relational Operators.\n",
    "2. Arithmetic Operators: Operations of addition, subtraction, multiplication, division are the primitive operations. \n",
    "3. More of higher mathematical operations can be used by importing the math module through  `import math`\n",
    "Relational Operators: operations of greater than, lesser than, not equal to and equal to.\n",
    "4. Logical Operators: AND, OR, NOT, BITWISE.\n",
    "5. Short Hand Operators can also be used in python, and they are called as Augmented Assignment Operator i.e `a += a`"
   ]
  },
  {
   "cell_type": "code",
   "execution_count": 3,
   "metadata": {},
   "outputs": [
    {
     "name": "stdout",
     "output_type": "stream",
     "text": [
      "Arithmetic Operators\n",
      "30\n",
      "10\n",
      "-10\n",
      "200\n",
      "0.5\n",
      "0\n",
      "10\n",
      "100000000000000000000\n"
     ]
    }
   ],
   "source": [
    "a = 10\n",
    "b = 20\n",
    "print('Arithmetic Operators')\n",
    "print(a+b)\n",
    "print(b-a)\n",
    "print(a-b)\n",
    "print(a*b)\n",
    "print(a/b) #the value returned by this is a floating point\n",
    "print(a//b) #this returns a integer as the result of division\n",
    "print(a % b) #returns the remainder after division\n",
    "print(a ** b) #returns the value of a to the power b\n"
   ]
  },
  {
   "cell_type": "code",
   "execution_count": 4,
   "metadata": {},
   "outputs": [
    {
     "name": "stdout",
     "output_type": "stream",
     "text": [
      "Relational Operators OR Comparison Operators\n",
      "False\n",
      "True\n",
      "False\n",
      "True\n"
     ]
    }
   ],
   "source": [
    "a = 10\n",
    "b = 20\n",
    "\n",
    "print('Relational Operators OR Comparison Operators')\n",
    "print(a > b)\n",
    "print(a < b)\n",
    "print(a == b)\n",
    "print(a != b)"
   ]
  },
  {
   "cell_type": "code",
   "execution_count": 5,
   "metadata": {},
   "outputs": [
    {
     "name": "stdout",
     "output_type": "stream",
     "text": [
      "Logical Operators\n",
      "False\n",
      "False\n",
      "True\n",
      "False\n"
     ]
    }
   ],
   "source": [
    "print('Logical Operators')\n",
    "a = True\n",
    "b = False\n",
    "print(a&b)\n",
    "print(b&b)\n",
    "print(a&a)\n",
    "print(b&a)"
   ]
  },
  {
   "cell_type": "code",
   "execution_count": 6,
   "metadata": {},
   "outputs": [
    {
     "name": "stdout",
     "output_type": "stream",
     "text": [
      "Extnsion of Logical Operators\n",
      "True\n",
      "False\n",
      "True\n",
      "True\n"
     ]
    }
   ],
   "source": [
    "print('Extension of Logical Operators')\n",
    "a = False\n",
    "b = True\n",
    "print(a|b)\n",
    "print(a|a)\n",
    "print(b|b)\n",
    "print(b|a)"
   ]
  },
  {
   "cell_type": "markdown",
   "metadata": {},
   "source": [
    "**Implemeting a few functions in the python's `math` module**"
   ]
  },
  {
   "cell_type": "code",
   "execution_count": 7,
   "metadata": {},
   "outputs": [
    {
     "name": "stdout",
     "output_type": "stream",
     "text": [
      "2\n",
      "89765\n",
      "7.8999\n",
      "8\n",
      "4\n",
      "\n",
      "\n",
      "\n",
      "2\n",
      "3\n",
      "24\n",
      "2\n"
     ]
    }
   ],
   "source": [
    "import math #a variable in python can be initialized and re-initialized again in the same program\n",
    "x = [2,6789,2345,6780,875,89765]\n",
    "c = min(x)\n",
    "print(c)\n",
    "c = max(x)\n",
    "print(c)\n",
    "print(abs(-7.8999))#prints the absolute value\n",
    "print(round(7.58999))#rounds the decimal number\n",
    "print(math.trunc(4.5651236789))#truncates the value\n",
    "print()\n",
    "\n",
    "print(\"\\n\")\n",
    "\n",
    "print(math.floor(2.9)) #Return the floor of x, the largest integer less than or equal to x\n",
    "print(math.ceil(2.9)) #Return the ceiling of x, the smallest integer greater than or equal to x.\n",
    "print(math.factorial(4)) #returns the factorial of the specified numbers and raises a value error if a decimal or negative value is passed\n",
    "print(math.gcd(4,2)) #returns the greatest common divisor of the arguments passed, in the version 3.9 more than two arguments can be passed, which was not a feature in 3.5"
   ]
  },
  {
   "cell_type": "markdown",
   "metadata": {},
   "source": []
  }
 ],
 "metadata": {
  "kernelspec": {
   "display_name": "Python 3",
   "language": "python",
   "name": "python3"
  },
  "language_info": {
   "codemirror_mode": {
    "name": "ipython",
    "version": 3
   },
   "file_extension": ".py",
   "mimetype": "text/x-python",
   "name": "python",
   "nbconvert_exporter": "python",
   "pygments_lexer": "ipython3",
   "version": "3.12.0"
  }
 },
 "nbformat": 4,
 "nbformat_minor": 2
}
