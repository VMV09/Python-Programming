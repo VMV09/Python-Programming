{
 "cells": [
  {
   "cell_type": "markdown",
   "metadata": {},
   "source": [
    "## Introduction"
   ]
  },
  {
   "cell_type": "markdown",
   "metadata": {},
   "source": []
  },
  {
   "cell_type": "markdown",
   "metadata": {},
   "source": [
    "1. The kind of computations we have been looking at thus far are straight-line programs.\n",
    "\n",
    "2. Straight-Line meaning they execute one statement after another in the order in which they appear, and stop when they run out statements i.e. end of program.<br>"
   ]
  },
  {
   "cell_type": "markdown",
   "metadata": {},
   "source": [
    "### Control Structure"
   ]
  },
  {
   "cell_type": "markdown",
   "metadata": {},
   "source": [
    "1. Control flow is the order that instructions are executed. A **Control Statement** is a statement tha determines the control flow of a set of instructions - in our case - Straight-Line and No-Straight-Line (technically called branching/selective/iterative).<br>\n",
    "<br>\n",
    "2. More logically and structurally - there are 3 fundamental forms of control that programming languages provide - `Sequential Control`, `Selection Control`, `Iterative Control`.<br>\n",
    "<br>\n",
    "3. "
   ]
  },
  {
   "cell_type": "markdown",
   "metadata": {},
   "source": []
  },
  {
   "cell_type": "code",
   "execution_count": null,
   "metadata": {},
   "outputs": [],
   "source": []
  },
  {
   "cell_type": "code",
   "execution_count": null,
   "metadata": {},
   "outputs": [],
   "source": []
  }
 ],
 "metadata": {
  "language_info": {
   "name": "python"
  }
 },
 "nbformat": 4,
 "nbformat_minor": 2
}
